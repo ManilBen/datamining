{
 "cells": [
  {
   "cell_type": "code",
   "execution_count": 2,
   "metadata": {},
   "outputs": [],
   "source": [
    "import pandas as pd\n",
    "import nltk\n",
    "# nltk.download('stopwords')\n",
    "from nltk.tokenize import word_tokenize\n",
    "from nltk.corpus import stopwords\n",
    "\n",
    "\n",
    "stop_words = stopwords.words('english')\n",
    "\n",
    "def tokenize_post(post): #function to apply word tokenize to non Nan values\n",
    "    if isinstance(post, str):\n",
    "        return word_tokenize(post.lower())\n",
    "    else:\n",
    "        return []\n",
    "\n",
    "df = pd.read_csv('data.csv')\n",
    "\n",
    "# Below function performs several modifications on data as suggested in the google doc for further processing. Takes the following inputs:\n",
    "# (i) df, the dataframe\n",
    "# (ii) threshold, for number of words as threshold for shor posts.\n",
    "\n",
    "\n",
    "\n",
    "\n",
    "def data_cleaner(df, threshold): \n",
    "\n",
    "    df['Post'] = df['Post'].apply(lambda x: x.lower() if isinstance(x, str) else x) #convert to lowercase\n",
    "\n",
    "    df['Industry'].replace('unknown', pd.NA, inplace=True) # remove unknown industry\n",
    "\n",
    "    df['Tokenized Posts'] = df['Post'].apply(tokenize_post) # tokenize the posts\n",
    "\n",
    "    df = df[df['Tokenized Posts'].apply(len) >= threshold]\n",
    "\n",
    "    df = df.drop(columns= ['Tokenized Posts'])\n",
    "\n",
    "\n",
    "\n",
    "    \n",
    "\n",
    "    return df\n",
    "\n",
    "\n",
    "data_cleaner(df, threshold=10)"
   ]
  }
 ],
 "metadata": {
  "kernelspec": {
   "display_name": "Python 3",
   "language": "python",
   "name": "python3"
  },
  "language_info": {
   "codemirror_mode": {
    "name": "ipython",
    "version": 3
   },
   "file_extension": ".py",
   "mimetype": "text/x-python",
   "name": "python",
   "nbconvert_exporter": "python",
   "pygments_lexer": "ipython3",
   "version": "3.10.12"
  }
 },
 "nbformat": 4,
 "nbformat_minor": 2
}
