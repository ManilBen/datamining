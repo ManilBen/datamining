{
 "cells": [
  {
   "cell_type": "code",
   "execution_count": 1,
   "metadata": {},
   "outputs": [
    {
     "name": "stdout",
     "output_type": "stream",
     "text": [
      "Requirement already satisfied: py-readability-metrics in /Users/user/miniconda/envs/aug/lib/python3.11/site-packages (1.4.5)\n",
      "Requirement already satisfied: nltk in /Users/user/miniconda/envs/aug/lib/python3.11/site-packages (from py-readability-metrics) (3.8.1)\n",
      "Requirement already satisfied: click in /Users/user/miniconda/envs/aug/lib/python3.11/site-packages (from nltk->py-readability-metrics) (8.1.7)\n",
      "Requirement already satisfied: joblib in /Users/user/miniconda/envs/aug/lib/python3.11/site-packages (from nltk->py-readability-metrics) (1.3.2)\n",
      "Requirement already satisfied: regex>=2021.8.3 in /Users/user/miniconda/envs/aug/lib/python3.11/site-packages (from nltk->py-readability-metrics) (2023.10.3)\n",
      "Requirement already satisfied: tqdm in /Users/user/miniconda/envs/aug/lib/python3.11/site-packages (from nltk->py-readability-metrics) (4.66.1)\n",
      "Note: you may need to restart the kernel to use updated packages.\n"
     ]
    }
   ],
   "source": [
    "pip install py-readability-metrics"
   ]
  },
  {
   "cell_type": "code",
   "execution_count": 2,
   "metadata": {},
   "outputs": [],
   "source": [
    "import pandas as pd"
   ]
  },
  {
   "cell_type": "code",
   "execution_count": 3,
   "metadata": {},
   "outputs": [],
   "source": [
    "data = pd.read_csv(\"~/Downloads/data.csv\")"
   ]
  },
  {
   "cell_type": "code",
   "execution_count": 4,
   "metadata": {},
   "outputs": [
    {
     "data": {
      "text/plain": [
       "array(['Well, everyone got up and going this morning.  It\\'s still raining, but that\\'s okay with me.  Sort of suits my mood.  I could easily have stayed home in bed with my book and the cats.  This has been a lot of rain though!  People have wet basements, there are lakes where there should be golf courses and fields, everything is green, green, green.  But, it is supposed to be 26 degrees by Friday, so we\\'ll be dealing with mosquitos next week.  I heard Winnipeg described as an \"Old Testament\" city on  urlLink CBC Radio One  last week and it sort of rings true.  Floods, infestations, etc., etc..',\n",
       "       'My four-year old never stops talking.  She\\'ll say \"Mom?\" and when I say \"Yes?\", she\\'ll say \"Ummm.... ummm... oh yeah.  Where do lady bugs hide in the rain?\"  Anything to hear her own voice. Very, very exhausting.    Now I remember!  This is why I go to work!   *Sigh*',\n",
       "       \"Actually it's not raining yet, but I bought 15 tickets to the  urlLink Goldeyes  game for my Mom's birthday tonight, and it is supposed to rain.  Do they cancel baseball games because of rain?  Although the ballpark is beautiful, it ain't the  urlLink SkyDome .  We used to go to the Jays games occassionally when we lived in Toronto and really like taking the kids to the Goldeyes games now.  I don't know what  urlLink Blue Jays  tickets cost now, but I'm sure it's cheaper here in Winnipeg.  Oh, I just checked and it  definitely  is!\",\n",
       "       ...,\n",
       "       '\"Science is like sex; occasionally something practical comes out of it, but that\\'s not the reason we\\'re doing it.\"',\n",
       "       'urlLink Dog toy or marital aid   I managed 10/14 on this little quiz, see how well you can do.  ',\n",
       "       'I had a dream last night about a fight when I was younger... My dad through a heavy wrench at my brother and hit him in the head... he was bleeding bad.  I hope it was just dream...'],\n",
       "      dtype=object)"
      ]
     },
     "execution_count": 4,
     "metadata": {},
     "output_type": "execute_result"
    }
   ],
   "source": [
    "data[\"Post\"].values"
   ]
  },
  {
   "cell_type": "code",
   "execution_count": 5,
   "metadata": {},
   "outputs": [],
   "source": [
    "from readability import Readability"
   ]
  },
  {
   "cell_type": "code",
   "execution_count": 6,
   "metadata": {},
   "outputs": [],
   "source": [
    "def compute_read_index(df):\n",
    "    lst = []\n",
    "    for txt in df[\"Post\"].values:\n",
    "        try:\n",
    "            lst.append(Readability(txt).flesch_kincaid())\n",
    "        except:\n",
    "            lst.append(0)\n",
    "    df[\"fl_kd_idx\"] = lst\n",
    "    return df"
   ]
  },
  {
   "cell_type": "code",
   "execution_count": 7,
   "metadata": {},
   "outputs": [],
   "source": [
    "df = compute_read_index(data)"
   ]
  },
  {
   "cell_type": "code",
   "execution_count": null,
   "metadata": {},
   "outputs": [],
   "source": [
    "df.to_csv(\"data_index.csv\")"
   ]
  }
 ],
 "metadata": {
  "kernelspec": {
   "display_name": "recette",
   "language": "python",
   "name": "python3"
  },
  "language_info": {
   "codemirror_mode": {
    "name": "ipython",
    "version": 3
   },
   "file_extension": ".py",
   "mimetype": "text/x-python",
   "name": "python",
   "nbconvert_exporter": "python",
   "pygments_lexer": "ipython3",
   "version": "3.11.4"
  },
  "orig_nbformat": 4
 },
 "nbformat": 4,
 "nbformat_minor": 2
}
